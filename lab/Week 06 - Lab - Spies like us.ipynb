{
 "cells": [
  {
   "cell_type": "markdown",
   "metadata": {},
   "source": [
    "### CMPSC 100: Spies like us\n",
    "\n",
    "![](https://cs.allegheny.edu/sites/dluman/cmpsc100/cmpsc-100-spies.png)"
   ]
  },
  {
   "cell_type": "markdown",
   "metadata": {},
   "source": [
    "G. wiz and their friends have several favorite pasttimes beyond playing the lottery and that game they really like called \"HumanQuest.\" (Now that you've been friends for a while, I am sure that they'll ask you to play _very soon_.)\n",
    "\n",
    "One of these hobbies is sending coded animal poems to each other. This week, G. Wiz receieved the following coded message from their friend Slippy Toad:\n",
    "\n",
    "```\n",
    "88 108 105 36 71 118 115 103 115 104 109 112 105 14 91 105 114 120 36 120 115 36 120 108 105 36 104 105 114 120 109 119 120 14 69 114 104 36 119 101 120 36 104 115 123 114 36 109 114 36 120 108 105 36 103 108 101 109 118 48 14 69 114 104 36 120 108 105 36 104 105 114 120 109 119 120 36 119 101 109 104 48 36 38 82 115 123 36 120 105 112 112 36 113 105 48 36 119 109 118 48 14 91 108 125 36 104 115 105 119 36 109 120 36 108 121 118 120 36 101 114 104 36 123 108 105 118 105 67 38 14 69 114 104 36 120 108 105 36 71 118 115 103 115 104 109 112 105 36 119 101 109 104 48 36 38 77 43 112 112 36 120 105 112 112 36 125 115 121 36 120 108 105 36 120 118 121 120 108 48 14 77 36 108 101 122 105 36 101 36 120 105 118 118 109 102 112 105 36 101 103 108 105 36 109 114 36 113 125 36 120 115 115 120 108 48 38 14 69 114 104 36 108 105 36 115 116 105 114 105 104 36 108 109 119 36 110 101 123 119 36 119 115 36 123 109 104 105 48 36 119 115 36 123 109 104 105 48 14 88 108 101 120 36 120 108 105 36 104 105 114 120 109 119 120 48 36 108 105 36 103 112 109 113 102 105 104 36 118 109 107 108 120 36 109 114 119 109 104 105 48 14 69 114 104 36 120 108 105 36 104 105 114 120 109 119 120 36 112 101 121 107 108 105 104 48 36 38 83 108 36 109 119 114 43 120 36 120 108 109 119 36 106 121 114 67 38 14 69 119 36 108 105 36 116 121 112 112 105 104 36 120 108 105 36 120 105 105 120 108 36 115 121 120 48 36 115 114 105 36 102 125 36 115 114 105 50 14 69 114 104 36 120 108 105 36 71 118 115 103 115 104 109 112 105 36 103 118 109 105 104 48 36 38 93 115 121 43 118 105 36 108 121 118 120 109 114 107 36 113 105 36 119 115 37 14 84 112 105 101 119 105 36 116 121 120 36 104 115 123 114 36 125 115 121 118 36 116 112 109 105 118 119 36 101 114 104 36 112 105 120 36 113 105 36 107 115 50 38 14 70 121 120 36 120 108 105 36 104 105 114 120 109 119 120 36 110 121 119 120 36 112 101 121 107 108 105 104 36 123 109 120 108 36 101 36 76 115 36 76 115 36 76 115 48 14 69 114 104 36 108 105 36 119 101 109 104 48 36 38 77 36 119 120 109 112 112 36 108 101 122 105 36 120 123 105 112 122 105 36 120 115 36 107 115 8216 14 83 115 116 119 48 36 120 108 101 120 43 119 36 120 108 105 36 123 118 115 114 107 36 115 114 105 48 36 77 36 103 115 114 106 105 119 119 48 14 70 121 120 36 123 108 101 120 43 119 36 115 114 105 36 103 118 115 103 115 104 109 112 105 43 119 36 120 115 115 120 108 48 36 113 115 118 105 36 115 118 36 112 105 119 119 67 38 14 88 108 105 114 36 119 121 104 104 105 114 112 125 48 36 120 108 105 36 110 101 123 119 36 123 105 114 120 36 87 82 69 84 48 14 69 114 104 36 120 108 105 36 104 105 114 120 109 119 120 36 123 101 119 36 107 115 114 105 48 36 118 109 107 108 120 36 115 106 106 36 120 108 105 36 113 101 116 48 14 69 114 104 36 123 108 105 118 105 36 108 105 36 123 105 114 120 36 115 114 105 36 103 115 121 112 104 36 115 114 112 125 36 107 121 105 119 119 50 50 50 14 88 115 36 82 115 118 120 108 36 115 118 36 87 115 121 120 108 36 115 118 36 73 101 119 120 36 115 118 36 91 105 119 120 50 50 50 14 76 105 36 112 105 106 120 36 114 115 36 106 115 118 123 101 118 104 109 114 107 36 101 104 104 118 105 119 119 50 14 70 121 120 36 123 108 101 120 43 119 36 115 114 105 36 104 105 114 120 109 119 120 48 36 113 115 118 105 36 115 118 36 112 105 119 119 67 \n",
    "```\n",
    "\n",
    "Oh, what a classic. \"115, 114, 105, 36, 103\" -- that's really funny; great alliteration. Except...wait -- what?!\n",
    "\n",
    "After digging through the envelope, a small piece of paper containing a clue dropped out:\n",
    "\n",
    "```\n",
    "\n",
    "FIRST THINGS FIRST: DON'T ASCII ME ANY QUESTIONS UNTIL YOU'VE SUBTRACTED 4.\n",
    "\n",
    "ONCE YOU'RE DONE WITH THAT, I HAVE SOMETHING MORE; A MESSAGE FOR YOU CONSTRUCTED FROM WORDS AT INDEXES:\n",
    "\n",
    "16 17 33 34 64 65 66\n",
    "\n",
    "I PROMISE COMPLETING THIS WON'T BE A BORE.\n",
    "\n",
    "-- SLIPPY\n",
    "```\n",
    "\n",
    "After staring at it for a while, G. Wiz realizes that there must be some kind of system, some kind of...how do we say it...reference table we could use to figure out what each of these numbers actually mean. Of course, you're their computationally-inclined friend, and they feel like something \"computational\" is at play here. So, G. Wiz has come to you to solve this code connundrum.\n",
    "\n",
    "So, from the clues, here's what we've put together so far:\n",
    "\n",
    "* each of these numbers seems to represent a character in the ASCII table\n",
    "* some how a factor of `4` fits into the problem here\n",
    "* the product of our work should be a full poem\n",
    "* at the end, we should be able to follow the second set of clues to apparently spell something"
   ]
  },
  {
   "cell_type": "markdown",
   "metadata": {},
   "source": [
    "## Requirements\n",
    "\n",
    "---\n"
   ]
  },
  {
   "cell_type": "markdown",
   "metadata": {},
   "source": [
    "* Use of the `open` function to read the file `coded_message.txt`\n",
    "* Use of either the `read` or `readlines` method to read the file\n",
    "* Use of at least one `for` loop to iterate over the file's contents\n",
    "* Use of the `chr` function to decode the file's numeric contents\n",
    "  * This is where the `4` might come in\n",
    "* A coded phrase printed using an `f-string`, assembled from the hints in the second part of the message\n",
    "  * Arriving at this message will likley use the `split` and/or `join` methods\n",
    "  * `f-string` should print `Coded message:` followed by a space, then  the coded message\n",
    "* Full program output must be at least `24` lines long"
   ]
  },
  {
   "cell_type": "markdown",
   "metadata": {},
   "source": [
    "## Code space"
   ]
  },
  {
   "cell_type": "code",
   "execution_count": 7,
   "metadata": {},
   "outputs": [],
   "source": [
    "poem = open(\"coded_message.txt\",\"r\")\n",
    "text = poem.read()\n",
    "\n",
    "letters = []\n",
    "\n",
    "for item in text.split():\n",
    "    letters.append(chr(int(item)-4))"
   ]
  },
  {
   "cell_type": "code",
   "execution_count": 8,
   "metadata": {},
   "outputs": [
    {
     "name": "stdout",
     "output_type": "stream",
     "text": [
      "The Crocodile\n",
      "Went to the dentist\n",
      "And sat down in the chair,\n",
      "And the dentist said, \"Now tell me, sir,\n",
      "Why does it hurt and where?\"\n",
      "And the Crocodile said, \"I'll tell you the truth,\n",
      "I have a terrible ache in my tooth,\"\n",
      "And he opened his jaws so wide, so wide,\n",
      "That the dentist, he climbed right inside,\n",
      "And the dentist laughed, \"Oh isn't this fun?\"\n",
      "As he pulled the teeth out, one by one.\n",
      "And the Crocodile cried, \"You're hurting me so!\n",
      "Please put down your pliers and let me go.\"\n",
      "But the dentist just laughed with a Ho Ho Ho,\n",
      "And he said, \"I still have twelve to go—\n",
      "Oops, that's the wrong one, I confess,\n",
      "But what's one crocodile's tooth, more or less?\"\n",
      "Then suddenly, the jaws went SNAP,\n",
      "And the dentist was gone, right off the map,\n",
      "And where he went one could only guess...\n",
      "To North or South or East or West...\n",
      "He left no forwarding address.\n",
      "But what's one dentist, more or less?\n"
     ]
    }
   ],
   "source": [
    "poem = ''.join(letters)\n",
    "print(poem)"
   ]
  },
  {
   "cell_type": "code",
   "execution_count": 14,
   "metadata": {},
   "outputs": [
    {
     "name": "stdout",
     "output_type": "stream",
     "text": [
      "Coded message: \"Now tell the truth, isn't this fun?\" \n"
     ]
    }
   ],
   "source": [
    "words = poem.split()\n",
    "# This approach is the optimal approach; I don't plan to test for it\n",
    "indexes = [16, 17, 33, 34, 64, 65, 66]\n",
    "message = \"\"\n",
    "\n",
    "for index in indexes:\n",
    "    # This is also extra -- only one f-string is necessary\n",
    "    message += f\"{words[index]} \"\n",
    "\n",
    "print(f\"Coded message: {message}\")"
   ]
  }
 ],
 "metadata": {
  "kernelspec": {
   "display_name": "Python 3",
   "language": "python",
   "name": "python3"
  },
  "language_info": {
   "codemirror_mode": {
    "name": "ipython",
    "version": 3
   },
   "file_extension": ".py",
   "mimetype": "text/x-python",
   "name": "python",
   "nbconvert_exporter": "python",
   "pygments_lexer": "ipython3",
   "version": "3.8.5"
  }
 },
 "nbformat": 4,
 "nbformat_minor": 4
}
