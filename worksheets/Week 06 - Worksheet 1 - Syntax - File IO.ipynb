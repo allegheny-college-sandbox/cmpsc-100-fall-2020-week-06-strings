{
 "cells": [
  {
   "cell_type": "markdown",
   "metadata": {},
   "source": [
    "# Week 06, Worksheet 1: Files\n",
    "\n",
    "`string`s are all sorts of fun. That is, until we run out of things to come up with -- which happens pretty fast. (Even I can entertain myself for only so long: just about 1 minute.)\n",
    "\n",
    "More often than not, using `string`s (and the practice of programming at-large) is the practice of working with files, or information stored _outside_ of a program. Here, we use the `open` function to access the file. Our use of this function features two parts:\n",
    "\n",
    "```python\n",
    "#   1. File's path (as string)\n",
    "#     |\n",
    "open(filename, mode)\n",
    "#              |\n",
    "#   2. File mode (see table below)\n",
    "```\n",
    "1. The `path` represents the location of the file\n",
    "2. The `mode` tells the function what kinds of work we might do on or with the file\n",
    "\n",
    "Modes include:\n",
    "\n",
    "|Mode |Purpose |\n",
    "|-----|--------|\n",
    "|`r`  |Read a file|\n",
    "|`w`  |Write to a file|\n",
    "|`a`  |Append to a file|\n",
    "\n",
    "This week, we'll focus on simply reading and writing to a file. First, let's read from a file:"
   ]
  },
  {
   "cell_type": "code",
   "execution_count": 1,
   "metadata": {},
   "outputs": [],
   "source": [
    "# Fun fact: if you recognize any of the names in this poem, you've clearly seen the musical _Cats_.\n",
    "#           T.S. Eliot wrote the book on which that musical is based; this is its first poem.\n",
    "cat_poem = open(\"eliot_the_naming_of_cats.txt\",\"r\")"
   ]
  },
  {
   "cell_type": "markdown",
   "metadata": {},
   "source": [
    "Once our file is open, like any object in Python, we gain the ability to use certain _methods_ of it. In order to access the content, we need to use one of two methods which allow us to do so:\n",
    "\n",
    "1. `read`\n",
    "2. `readlines`\n",
    "\n",
    "(As in anything programming, there are many more ways to complete the above actions; as you extend your knowledge in programming -- particularly Python -- you'll discover them and likely opt to use other methods.)\n",
    "\n",
    "<div class=\"alert alert-block alert-warning\">\n",
    "    Using any one of these methods will <em>automatically consume the contents of the file</em>. This means that once one of these methods is used, the only way to access the file's contents is to <b>open</b> it again.\n",
    "</div>\n",
    "\n",
    "Below, we'll see what using the `read` method looks like."
   ]
  },
  {
   "cell_type": "code",
   "execution_count": 2,
   "metadata": {},
   "outputs": [
    {
     "data": {
      "text/plain": [
       "'The Naming of Cats is a difficult matter,\\n  It isn’t just one of your holiday games;\\nYou may think at first I’m as mad as a hatter\\nWhen I tell you, a cat must have THREE DIFFERENT NAMES.\\nFirst of all, there’s the name that the family use daily,\\n  Such as Peter, Augustus, Alonzo, or James,\\nSuch as Victor or Jonathan, George or Bill Bailey—\\n  All of them sensible everyday names.\\nThere are fancier names if you think they sound sweeter,\\n  Some for the gentlemen, some for the dames:\\nSuch as Plato, Admetus, Electra, Demeter—\\n  But all of them sensible everyday names,\\nBut I tell you, a cat needs a name that’s particular,\\n  A name that’s peculiar, and more dignified,\\nElse how can he keep up his tail perpendicular,\\n  Or spread out his whiskers, or cherish his pride?\\nOf names of this kind, I can give you a quorum,\\n  Such as Munkustrap, Quaxo, or Coricopat,\\nSuch as Bombalurina, or else Jellylorum—\\n  Names that never belong to more than one cat.\\nBut above and beyond there’s still one name left over,\\n  And that is the name that you never will guess;\\nThe name that no human research can discover—\\n  But THE CAT HIMSELF KNOWS, and will never confess.\\nWhen you notice a cat in profound meditation,\\n  The reason, I tell you, is always the same:\\nHis mind is engaged in a rapt contemplation\\n  Of the thought, of the thought, of the thought of his name:\\n    His ineffable effable\\n    Effanineffable\\nDeep and inscrutable singular name.'"
      ]
     },
     "execution_count": 2,
     "metadata": {},
     "output_type": "execute_result"
    }
   ],
   "source": [
    "text = cat_poem.read()\n",
    "text"
   ]
  },
  {
   "cell_type": "markdown",
   "metadata": {},
   "source": [
    "Perhaps that wasn't quite what you expected -- however, sometimes we get exactly what we ask for. This is one of those times.\n",
    "\n",
    "`read` pulls in the exact contents of the file without respect to things like _control characters_ -- another important part of `string`s. Recall the use of `\\t` in the opening weeks of the course. Here, we see a new one, `\\n`, which indicates that a _new line_ should occur _exactly at that point_.\n",
    "\n",
    "Should we `print` the variable, we'll see the result of our _control character_ `\\n`."
   ]
  },
  {
   "cell_type": "code",
   "execution_count": 3,
   "metadata": {},
   "outputs": [
    {
     "name": "stdout",
     "output_type": "stream",
     "text": [
      "The Naming of Cats is a difficult matter,\n",
      "  It isn’t just one of your holiday games;\n",
      "You may think at first I’m as mad as a hatter\n",
      "When I tell you, a cat must have THREE DIFFERENT NAMES.\n",
      "First of all, there’s the name that the family use daily,\n",
      "  Such as Peter, Augustus, Alonzo, or James,\n",
      "Such as Victor or Jonathan, George or Bill Bailey—\n",
      "  All of them sensible everyday names.\n",
      "There are fancier names if you think they sound sweeter,\n",
      "  Some for the gentlemen, some for the dames:\n",
      "Such as Plato, Admetus, Electra, Demeter—\n",
      "  But all of them sensible everyday names,\n",
      "But I tell you, a cat needs a name that’s particular,\n",
      "  A name that’s peculiar, and more dignified,\n",
      "Else how can he keep up his tail perpendicular,\n",
      "  Or spread out his whiskers, or cherish his pride?\n",
      "Of names of this kind, I can give you a quorum,\n",
      "  Such as Munkustrap, Quaxo, or Coricopat,\n",
      "Such as Bombalurina, or else Jellylorum—\n",
      "  Names that never belong to more than one cat.\n",
      "But above and beyond there’s still one name left over,\n",
      "  And that is the name that you never will guess;\n",
      "The name that no human research can discover—\n",
      "  But THE CAT HIMSELF KNOWS, and will never confess.\n",
      "When you notice a cat in profound meditation,\n",
      "  The reason, I tell you, is always the same:\n",
      "His mind is engaged in a rapt contemplation\n",
      "  Of the thought, of the thought, of the thought of his name:\n",
      "    His ineffable effable\n",
      "    Effanineffable\n",
      "Deep and inscrutable singular name.\n"
     ]
    }
   ],
   "source": [
    "print(text)"
   ]
  },
  {
   "cell_type": "markdown",
   "metadata": {},
   "source": [
    "_Much_ better. But, I told you there were other ways to do this, so there must be some benefit. Let's look at `readlines`."
   ]
  },
  {
   "cell_type": "code",
   "execution_count": 4,
   "metadata": {},
   "outputs": [
    {
     "name": "stdout",
     "output_type": "stream",
     "text": [
      "['The Naming of Cats is a difficult matter,\\n', '  It isn’t just one of your holiday games;\\n', 'You may think at first I’m as mad as a hatter\\n', 'When I tell you, a cat must have THREE DIFFERENT NAMES.\\n', 'First of all, there’s the name that the family use daily,\\n', '  Such as Peter, Augustus, Alonzo, or James,\\n', 'Such as Victor or Jonathan, George or Bill Bailey—\\n', '  All of them sensible everyday names.\\n', 'There are fancier names if you think they sound sweeter,\\n', '  Some for the gentlemen, some for the dames:\\n', 'Such as Plato, Admetus, Electra, Demeter—\\n', '  But all of them sensible everyday names,\\n', 'But I tell you, a cat needs a name that’s particular,\\n', '  A name that’s peculiar, and more dignified,\\n', 'Else how can he keep up his tail perpendicular,\\n', '  Or spread out his whiskers, or cherish his pride?\\n', 'Of names of this kind, I can give you a quorum,\\n', '  Such as Munkustrap, Quaxo, or Coricopat,\\n', 'Such as Bombalurina, or else Jellylorum—\\n', '  Names that never belong to more than one cat.\\n', 'But above and beyond there’s still one name left over,\\n', '  And that is the name that you never will guess;\\n', 'The name that no human research can discover—\\n', '  But THE CAT HIMSELF KNOWS, and will never confess.\\n', 'When you notice a cat in profound meditation,\\n', '  The reason, I tell you, is always the same:\\n', 'His mind is engaged in a rapt contemplation\\n', '  Of the thought, of the thought, of the thought of his name:\\n', '    His ineffable effable\\n', '    Effanineffable\\n', 'Deep and inscrutable singular name.']\n"
     ]
    }
   ],
   "source": [
    "cat_poem = open(\"eliot_the_naming_of_cats.txt\",\"r\")\n",
    "lines = cat_poem.readlines()\n",
    "print(lines)"
   ]
  },
  {
   "cell_type": "markdown",
   "metadata": {},
   "source": [
    "Curious. We get a `list` of `string`s containing all of the lines in the file _including_ the `\\n` control characters. This means that we can use useful _data structure_ operations on it like, for example:"
   ]
  },
  {
   "cell_type": "code",
   "execution_count": 5,
   "metadata": {},
   "outputs": [
    {
     "name": "stdout",
     "output_type": "stream",
     "text": [
      "There are 31 lines in the poem.\n",
      "    Effanineffable\n",
      "\n",
      "['Such as Plato, Admetus, Electra, Demeter—\\n', '  But all of them sensible everyday names,\\n', 'But I tell you, a cat needs a name that’s particular,\\n', '  A name that’s peculiar, and more dignified,\\n', 'Else how can he keep up his tail perpendicular,\\n']\n"
     ]
    }
   ],
   "source": [
    "# Counting the number of lines in the poem\n",
    "print(\"There are\", len(lines), \"lines in the poem.\")\n",
    "\n",
    "# Getting the second-to-last line\n",
    "print(lines[-2])\n",
    "\n",
    "# Getting a slice of the list from a spot in the middle\n",
    "print(lines[10:15])"
   ]
  },
  {
   "cell_type": "markdown",
   "metadata": {},
   "source": [
    "### Formatting\n",
    "\n",
    "Let's say, for argument's sake, we want to print the poem as poems are traditionally seen: line by line with line numbers to the left of the line, separated by some space. Ok, here we go:"
   ]
  },
  {
   "cell_type": "code",
   "execution_count": 6,
   "metadata": {},
   "outputs": [
    {
     "name": "stdout",
     "output_type": "stream",
     "text": [
      "The Naming of Cats\n",
      "  T.S. Eliot\n",
      "\n",
      "1 The Naming of Cats is a difficult matter,\n",
      "\n",
      "2   It isn’t just one of your holiday games;\n",
      "\n",
      "3 You may think at first I’m as mad as a hatter\n",
      "\n",
      "4 When I tell you, a cat must have THREE DIFFERENT NAMES.\n",
      "\n",
      "5 First of all, there’s the name that the family use daily,\n",
      "\n",
      "6   Such as Peter, Augustus, Alonzo, or James,\n",
      "\n",
      "7 Such as Victor or Jonathan, George or Bill Bailey—\n",
      "\n",
      "8   All of them sensible everyday names.\n",
      "\n",
      "9 There are fancier names if you think they sound sweeter,\n",
      "\n",
      "10   Some for the gentlemen, some for the dames:\n",
      "\n",
      "11 Such as Plato, Admetus, Electra, Demeter—\n",
      "\n",
      "12   But all of them sensible everyday names,\n",
      "\n",
      "13 But I tell you, a cat needs a name that’s particular,\n",
      "\n",
      "14   A name that’s peculiar, and more dignified,\n",
      "\n",
      "15 Else how can he keep up his tail perpendicular,\n",
      "\n",
      "16   Or spread out his whiskers, or cherish his pride?\n",
      "\n",
      "17 Of names of this kind, I can give you a quorum,\n",
      "\n",
      "18   Such as Munkustrap, Quaxo, or Coricopat,\n",
      "\n",
      "19 Such as Bombalurina, or else Jellylorum—\n",
      "\n",
      "20   Names that never belong to more than one cat.\n",
      "\n",
      "21 But above and beyond there’s still one name left over,\n",
      "\n",
      "22   And that is the name that you never will guess;\n",
      "\n",
      "23 The name that no human research can discover—\n",
      "\n",
      "24   But THE CAT HIMSELF KNOWS, and will never confess.\n",
      "\n",
      "25 When you notice a cat in profound meditation,\n",
      "\n",
      "26   The reason, I tell you, is always the same:\n",
      "\n",
      "27 His mind is engaged in a rapt contemplation\n",
      "\n",
      "28   Of the thought, of the thought, of the thought of his name:\n",
      "\n",
      "29     His ineffable effable\n",
      "\n",
      "30     Effanineffable\n",
      "\n",
      "31 Deep and inscrutable singular name.\n"
     ]
    }
   ],
   "source": [
    "print(\"The Naming of Cats\")\n",
    "print(\"  T.S. Eliot\")\n",
    "print()\n",
    "line_num = 1\n",
    "for line in lines:\n",
    "    print(line_num,line)\n",
    "    line_num += 1"
   ]
  },
  {
   "cell_type": "markdown",
   "metadata": {},
   "source": [
    "Cool and all, but what's with that space between the lines? \n",
    "\n",
    "Oh! We forgot that every line actually has an `\\n` character after it. To rid outselves of this `\\n`, we'll use a new method: `rstrip`.\n",
    "\n",
    "_And_, that number to the left looks a bit close. We _could_ solve this using our typical approach to `print`ing things. Or, we could learn a _new_ way to format out strings: the `f-string`.\n",
    "\n",
    "The `f-string` allows us to create a _template_ `string` -- something that holds the variables we want to `print` and the formatting we want to use to `print` them using slightly modified syntax:"
   ]
  },
  {
   "cell_type": "code",
   "execution_count": 11,
   "metadata": {},
   "outputs": [
    {
     "name": "stdout",
     "output_type": "stream",
     "text": [
      "The Naming of Cats\n",
      "  T.S. Eliot\n",
      "\n",
      "1\tThe Naming of Cats is a difficult matter,\n",
      "2\t  It isn’t just one of your holiday games;\n",
      "3\tYou may think at first I’m as mad as a hatter\n",
      "4\tWhen I tell you, a cat must have THREE DIFFERENT NAMES.\n",
      "5\tFirst of all, there’s the name that the family use daily,\n",
      "6\t  Such as Peter, Augustus, Alonzo, or James,\n",
      "7\tSuch as Victor or Jonathan, George or Bill Bailey—\n",
      "8\t  All of them sensible everyday names.\n",
      "9\tThere are fancier names if you think they sound sweeter,\n",
      "10\t  Some for the gentlemen, some for the dames:\n",
      "11\tSuch as Plato, Admetus, Electra, Demeter—\n",
      "12\t  But all of them sensible everyday names,\n",
      "13\tBut I tell you, a cat needs a name that’s particular,\n",
      "14\t  A name that’s peculiar, and more dignified,\n",
      "15\tElse how can he keep up his tail perpendicular,\n",
      "16\t  Or spread out his whiskers, or cherish his pride?\n",
      "17\tOf names of this kind, I can give you a quorum,\n",
      "18\t  Such as Munkustrap, Quaxo, or Coricopat,\n",
      "19\tSuch as Bombalurina, or else Jellylorum—\n",
      "20\t  Names that never belong to more than one cat.\n",
      "21\tBut above and beyond there’s still one name left over,\n",
      "22\t  And that is the name that you never will guess;\n",
      "23\tThe name that no human research can discover—\n",
      "24\t  But THE CAT HIMSELF KNOWS, and will never confess.\n",
      "25\tWhen you notice a cat in profound meditation,\n",
      "26\t  The reason, I tell you, is always the same:\n",
      "27\tHis mind is engaged in a rapt contemplation\n",
      "28\t  Of the thought, of the thought, of the thought of his name:\n",
      "29\t    His ineffable effable\n",
      "30\t    Effanineffable\n",
      "31\tDeep and inscrutable singular name.\n"
     ]
    }
   ],
   "source": [
    "line_num = 1\n",
    "\n",
    "print(\"The Naming of Cats\")\n",
    "# See what I did here with \\n?\n",
    "print(\"  T.S. Eliot\\n\")\n",
    "\n",
    "for line in lines:\n",
    "    print(f\"{line_num}\\t{line.rstrip()}\")\n",
    "    line_num += 1"
   ]
  },
  {
   "cell_type": "markdown",
   "metadata": {},
   "source": [
    "But, even that's a bit clunky -- _there're too many line numbers!_. Let's print a number to the left of every _five_ (5)."
   ]
  },
  {
   "cell_type": "code",
   "execution_count": 14,
   "metadata": {},
   "outputs": [
    {
     "name": "stdout",
     "output_type": "stream",
     "text": [
      "The Naming of Cats\n",
      "  T.S. Eliot\n",
      "\n",
      "\tThe Naming of Cats is a difficult matter,\n",
      "\t  It isn’t just one of your holiday games;\n",
      "\tYou may think at first I’m as mad as a hatter\n",
      "\tWhen I tell you, a cat must have THREE DIFFERENT NAMES.\n",
      "5\tFirst of all, there’s the name that the family use daily,\n",
      "\t  Such as Peter, Augustus, Alonzo, or James,\n",
      "\tSuch as Victor or Jonathan, George or Bill Bailey—\n",
      "\t  All of them sensible everyday names.\n",
      "\tThere are fancier names if you think they sound sweeter,\n",
      "10\t  Some for the gentlemen, some for the dames:\n",
      "\tSuch as Plato, Admetus, Electra, Demeter—\n",
      "\t  But all of them sensible everyday names,\n",
      "\tBut I tell you, a cat needs a name that’s particular,\n",
      "\t  A name that’s peculiar, and more dignified,\n",
      "15\tElse how can he keep up his tail perpendicular,\n",
      "\t  Or spread out his whiskers, or cherish his pride?\n",
      "\tOf names of this kind, I can give you a quorum,\n",
      "\t  Such as Munkustrap, Quaxo, or Coricopat,\n",
      "\tSuch as Bombalurina, or else Jellylorum—\n",
      "20\t  Names that never belong to more than one cat.\n",
      "\tBut above and beyond there’s still one name left over,\n",
      "\t  And that is the name that you never will guess;\n",
      "\tThe name that no human research can discover—\n",
      "\t  But THE CAT HIMSELF KNOWS, and will never confess.\n",
      "25\tWhen you notice a cat in profound meditation,\n",
      "\t  The reason, I tell you, is always the same:\n",
      "\tHis mind is engaged in a rapt contemplation\n",
      "\t  Of the thought, of the thought, of the thought of his name:\n",
      "\t    His ineffable effable\n",
      "30\t    Effanineffable\n",
      "\tDeep and inscrutable singular name.\n"
     ]
    }
   ],
   "source": [
    "line_num = 1\n",
    "\n",
    "print(\"The Naming of Cats\")\n",
    "print(\"  T.S. Eliot\\n\")\n",
    "\n",
    "for line in lines:\n",
    "    # The \"%\" is called the modulus -- it asks if there's any remainder after division\n",
    "    if line_num % 5 == 0:\n",
    "        print(f\"{line_num}\\t{line.rstrip()}\")\n",
    "    else:\n",
    "        print(f\"\\t{line.rstrip()}\")\n",
    "    line_num += 1"
   ]
  },
  {
   "cell_type": "markdown",
   "metadata": {},
   "source": [
    "Much better!\n",
    "\n",
    "## Final exercise\n",
    "\n",
    "Now, it's up to you to do the same to the poem contained in the file `w_b_yeats_the_cat_and_the_moon.txt`. Its title is \"The Cat and the Moon,\" and its author: the famous Irish poet W.B. Yeats (pronounced \"Yates\"). Hopefully you learn something about this meditation on cat behavior.\n",
    "\n",
    "To reiterate our problem, we need to:\n",
    "\n",
    "* `open` the file\n",
    "* `print` the title and author on separate lines, followed by a blank new line\n",
    "* Then, using our new `f-string`s:\n",
    "  * `print` the file's contents without spaces between the lines\n",
    "  * `print` a line number to the left of the line _every five (5) lines_.\n",
    "    * This will use the new thing we've seen -- the modulus `%` operator.\n",
    "    * This should be separated by a tab\n",
    "    * All lines, regardless of being numbered should be spaced in by one tab"
   ]
  },
  {
   "cell_type": "code",
   "execution_count": 22,
   "metadata": {},
   "outputs": [
    {
     "name": "stdout",
     "output_type": "stream",
     "text": [
      "The Cat and the Moon\n",
      "W.B. Yeats\n",
      "\n",
      "\tThe cat went here and there\n",
      "\tAnd the moon spun round like a top,\n",
      "\tAnd the nearest kin of the moon,\n",
      "\tThe creeping cat, looked up.\n",
      "5\tBlack Minnaloushe stared at the moon,\n",
      "\tFor, wander and wail as he would,\n",
      "\tThe pure cold light in the sky\n",
      "\tTroubled his animal blood.\n",
      "\tMinnaloushe runs in the grass\n",
      "10\tLifting his delicate feet.\n",
      "\tDo you dance, Minnaloushe, do you dance?\n",
      "\tWhen two close kindred meet,\n",
      "\tWhat better than call a dance?\n",
      "\tMaybe the moon may learn,\n",
      "15\tTired of that courtly fashion,\n",
      "\tA new dance turn.\n",
      "\tMinnaloushe creeps through the grass\n",
      "\tFrom moonlit place to place,\n",
      "\tThe sacred moon overhead\n",
      "20\tHas taken a new phase.\n",
      "\tDoes Minnaloushe know that his pupils\n",
      "\tWill pass from change to change,\n",
      "\tAnd that from round to crescent,\n",
      "\tFrom crescent to round they range?\n",
      "25\tMinnaloushe creeps through the grass\n",
      "\tAlone, important and wise,\n",
      "\tAnd lifts to the changing moon\n",
      "\tHis changing eyes.\n"
     ]
    }
   ],
   "source": [
    "poem = open(\"w_b_yeats_the_cat_and_the_moon.txt\",\"r\")\n",
    "\n",
    "print(\"The Cat and the Moon\")\n",
    "print(\"W.B. Yeats\\n\")\n",
    "\n",
    "line_num = 1\n",
    "\n",
    "for line in poem.readlines():\n",
    "    if line_num % 5 == 0:\n",
    "        print(f\"{line_num}\\t{line.rstrip()}\")\n",
    "    else:\n",
    "        print(f\"\\t{line.rstrip()}\")\n",
    "    line_num += 1"
   ]
  }
 ],
 "metadata": {
  "kernelspec": {
   "display_name": "Python 3",
   "language": "python",
   "name": "python3"
  },
  "language_info": {
   "codemirror_mode": {
    "name": "ipython",
    "version": 3
   },
   "file_extension": ".py",
   "mimetype": "text/x-python",
   "name": "python",
   "nbconvert_exporter": "python",
   "pygments_lexer": "ipython3",
   "version": "3.8.5"
  }
 },
 "nbformat": 4,
 "nbformat_minor": 4
}
