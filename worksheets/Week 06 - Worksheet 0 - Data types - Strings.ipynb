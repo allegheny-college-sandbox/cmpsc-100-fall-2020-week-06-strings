{
 "cells": [
  {
   "cell_type": "markdown",
   "metadata": {},
   "source": [
    "# Week 06, Worksheet 0: Strings\n",
    "\n",
    "<div class=\"alert alert-block alert-info\">\n",
    "    This worksheet implements to-do markers where work needs to be completed. In some cases, this means that you'll need to add a line or two to an example. In other cases (such as the final exercise), you may need to solve an entire problem.\n",
    "</div>\n",
    "\n",
    "## `string`ing you along\n",
    "\n",
    "To this point in the semester, we've worked with `string` objects largely through `print` statements. While we will still do some of that, this week, we're exploring the more advanced world of what lies beneath the surface.\n",
    "\n",
    "### What is a string?\n",
    "\n",
    "The \"textbook\" definition of the `string` is that it's simply a collection of _symbols_. These symbols can be anything that is computer-recognizable. Typically this means letters (`qweituortrgdafgdg`), symbols (`##@*!#!)` -- again, I'm not _that_ upset about it), or numbers-as-symbols. This last one is a little strange. Just remember that:\n",
    "\n",
    "$$ 4 \\neq{\"4\"} $$\n",
    "\n",
    "One of the above, `4` is the _integer_ representation -- a number. The other, `\"4\"` is the `string` representation of the symbol `4`. This is why we get the lovely `TypeError` in when we attempt to do the following:\n",
    "\n",
    "```\n",
    "---------------------------------------------------------------------------\n",
    "TypeError                                 Traceback (most recent call last)\n",
    "<ipython-input-1-ebbc32cdfe85> in <module>\n",
    "----> 1 s = 4  + \"4\"\n",
    "\n",
    "TypeError: unsupported operand type(s) for +: 'int' and 'str'\n",
    "```\n",
    "\n",
    "Back to the definition: we can then say that a `string` is simply a group of symbols known as _characters_ which can display nearly anything that language can provide.\n",
    "\n",
    "But, I can also tell you that your computer doesn't actually care about the symbol. That's just a human convenience. All a system really cares about is that _each symbol is stored at a different place_ in a gigantic set of characters called the Unicode Coded Character Set (or just \"Unicode\"). Speaking of the majority of English-language characters, we can say they're stored in a _subset_ (that is, smaller portion of) this standard that we call [ASCII (the American Standard Code for Information Interchange)](http://www.asciitable.com/).\n",
    "\n",
    "This table, known as the \"ASCII Table\" contains entries for various letters which refer to decimal (or `DEC`) representations of symbols which actually refer to letters. Here's what that looks like from a programming perspective:"
   ]
  },
  {
   "cell_type": "code",
   "execution_count": null,
   "metadata": {},
   "outputs": [],
   "source": [
    "# Notice that they're different\n",
    "\n",
    "print(\"The ASCII character code for 'a':\",ord(\"a\"))\n",
    "print(\"The ASCII character code for 'A':\",ord(\"A\"))"
   ]
  },
  {
   "cell_type": "markdown",
   "metadata": {},
   "source": [
    "Here, we use a built-in function called `ord` to get the _ordinal_ (that is the Unicode \"code point\" -- address of) a given character. Again, because the _symbol_ `A` looks and behaves distinctly differently from the symbol `a`, their addresses in the table are _different_. Try it for yourself below.\n",
    "\n",
    "#### 1a. `print` the ordinal values of at least `4` different characters or symbols."
   ]
  },
  {
   "cell_type": "code",
   "execution_count": null,
   "metadata": {},
   "outputs": [],
   "source": [
    "#"
   ]
  },
  {
   "cell_type": "markdown",
   "metadata": {},
   "source": [
    "If we have _ordinal_ values (numbers), we can turn them back into characters using `ord`'s opposite, `chr` using the same syntax as we would for `ord`.\n",
    "\n",
    "1b. `print` the character values of the following `5` ordinal values:\n",
    "\n",
    "* `71`\n",
    "* `46`\n",
    "* `87`\n",
    "* `105`\n",
    "* `122`"
   ]
  },
  {
   "cell_type": "code",
   "execution_count": 15,
   "metadata": {},
   "outputs": [
    {
     "name": "stdout",
     "output_type": "stream",
     "text": [
      "W\n"
     ]
    }
   ],
   "source": [
    "# "
   ]
  },
  {
   "cell_type": "markdown",
   "metadata": {},
   "source": [
    "### Full disclosure\n",
    "\n",
    "I am required by the Ethical Code of All Computer Science Teachers<sup>TM</sup> to make you aware of the fact that I've been telling you a convenient lie all semester.\n",
    "\n",
    "<img src = \"https://i.imgflip.com/4i1d15.jpg\">\n",
    "\n",
    "This is because `string` objects, while appearing like any other _data type_ (`float`, `int`, `boolean`, et al.) really _aren't_. We can treat `string`s like a _data type_ **and** a _data structure_. \n",
    "\n",
    "Let's take a look at an example."
   ]
  },
  {
   "cell_type": "code",
   "execution_count": null,
   "metadata": {},
   "outputs": [],
   "source": [
    "cat_name = \"Ulysses\"\n",
    "\n",
    "for letter in cat_name:\n",
    "    print(letter)"
   ]
  },
  {
   "cell_type": "markdown",
   "metadata": {},
   "source": [
    "Notice that _each `character`_ `print`s on a separate line. This is because `string`s function a lot like a _data structure_ -- specifically `list`s. \n",
    "\n",
    "### Similarities to `list`s\n",
    "\n",
    "* a _known length_\n",
    "* access via _indexes_\n",
    "* the abilty to _slice_ them\n",
    "* ability to iterate over them"
   ]
  },
  {
   "cell_type": "code",
   "execution_count": null,
   "metadata": {},
   "outputs": [],
   "source": [
    "# known length\n",
    "print(\"cat_name length:\", len(cat_name))\n",
    "\n",
    "# access via index\n",
    "print(\"cat_name index 4:\", cat_name[4])\n",
    "\n",
    "# ability to slice\n",
    "print(\"cat_name sliced:\", cat_name[2:5])\n",
    "\n",
    "print(\"Iteration:\")\n",
    "for letter in cat_name:\n",
    "    print(letter)"
   ]
  },
  {
   "cell_type": "markdown",
   "metadata": {},
   "source": [
    "### Differences from `list`s\n",
    "\n",
    "* `string`s are _immutable_: we can't change them _directly_\n",
    "* different _methods_ than a `list`\n",
    "* `string`s only accept `string` data (we can't mix data types)\n",
    "\n",
    "#### Methods\n",
    "\n",
    "We've learned a bit about _methods_ in this course, though we can't spent a lot of time with them. Specifically, we know things like `append` and `remove` vis-a-vis our use of them with `list`s. REgardless of the object type we're working with, the syntax is always the same:\n",
    "\n",
    "$$ variable\\_name.method\\_name(arguments) $$\n",
    "\n",
    "As concerns `string`s, we have quite a few things we can do with them (this is a _small sampling_):\n",
    "\n",
    "| Method | Argument(s) |Effect |\n",
    "|--------|-------------|-------|\n",
    "|`.lower()`|None | Converts entire string to lower case |\n",
    "|`.upper()`|None |Converts entire string to upper case |\n",
    "|`.count()`|`string` to count instances of|Counts the number of times a given substring appears in a `string`|\n",
    "|`.endswith()`|`string`/`tuple` of `string`s to look for | Returns `boolean` if string does/n't end with `string` argument |\n",
    "|`.startswith()`|`string`/`tuple` of `string`s to look for| Returns `boolean` if string does/n't start with `string` argument |\n",
    "|`.replace()`|`string` to find, `string` to replace it with, `integer` times to replace| Replace searched string with specified replacement `N` times|\n",
    "|`.split()`|`string` on which to to \"split\" `string` (default: spaces) |Splits a `string` into parts (a `list`)|\n",
    "|`.join()`|`list` to \"glue\" together into a string|Fuses a `string` together from a `list` of `string`s|\n",
    "\n",
    "In the above table, `join()` behaves a bit differently than the others. See the following:"
   ]
  },
  {
   "cell_type": "code",
   "execution_count": 5,
   "metadata": {},
   "outputs": [
    {
     "data": {
      "text/plain": [
       "'It was the best of times, it was the worst of times.'"
      ]
     },
     "execution_count": 5,
     "metadata": {},
     "output_type": "execute_result"
    }
   ],
   "source": [
    "sentences = [\"It was the best of times\",\"it was the worst of times.\"]\n",
    "\", \".join(sentences)"
   ]
  },
  {
   "cell_type": "markdown",
   "metadata": {},
   "source": [
    "The \"glue\" (the `string` that joins the two `list`s together) comes _first_.\n",
    "\n",
    "#### Detour into `string` immutability\n",
    "\n",
    "We say a `string` is \"immutable,\" though clearly some of the methods above alter the contents of a `string`. Let's observe this hands on."
   ]
  },
  {
   "cell_type": "code",
   "execution_count": 6,
   "metadata": {},
   "outputs": [
    {
     "name": "stdout",
     "output_type": "stream",
     "text": [
      "My cat's name is The Boss.\n",
      "My cat's name is Ulysses.\n"
     ]
    }
   ],
   "source": [
    "introduction = \"My cat's name is Ulysses.\"\n",
    "print(introduction.replace(\"Ulysses\",\"The Boss\"))\n",
    "print(introduction)"
   ]
  },
  {
   "cell_type": "markdown",
   "metadata": {},
   "source": [
    "As we can see in the above example, calling the `replace` method on the `string` _doesn't change the underlying `string`_ (as shown when we `print` it again at the end). Instead, it creates a new copy of the `string` which contains the replacement. This is what we mean when we say that `strings` are _immutable_ -- unless we re/assign them, the original data doesn't change.\n",
    "\n",
    "#### 2. Complete the following examples."
   ]
  },
  {
   "cell_type": "code",
   "execution_count": 7,
   "metadata": {},
   "outputs": [
    {
     "name": "stdin",
     "output_type": "stream",
     "text": [
      "Tell me something (enter [N]o to quit):  N\n"
     ]
    },
    {
     "name": "stdout",
     "output_type": "stream",
     "text": [
      "Stop telling me stuff!\n"
     ]
    }
   ],
   "source": [
    "# Example 1\n",
    "\n",
    "while True:\n",
    "    choice = input(\"Tell me something (enter [N]o to quit): \")\n",
    "    # use the upper method on choice to make either \"n\" or \"N\" valid choices to end the loop\n",
    "    if choice.upper() == \"N\":\n",
    "        print(\"Stop telling me stuff!\")\n",
    "        break"
   ]
  },
  {
   "cell_type": "code",
   "execution_count": 8,
   "metadata": {},
   "outputs": [
    {
     "name": "stdout",
     "output_type": "stream",
     "text": [
      "cat: False\n",
      "rat: False\n",
      "antelope: True\n",
      "bat: False\n",
      "anteater: True\n",
      "ant: True\n",
      "abalone: True\n",
      "python: False\n",
      "Ulysses: False\n"
     ]
    }
   ],
   "source": [
    "# Example 2\n",
    "\n",
    "animals = [\"cat\",\"rat\",\"antelope\",\"bat\",\"anteater\",\"ant\",\"abalone\",\"python\",\"Ulysses\"]\n",
    "for animal in animals:\n",
    "    # Finish the following statement to print `True` if an animal's name starts with the letter \"a\"\n",
    "    print(animal + \":\",animal.startswith(\"a\"))"
   ]
  },
  {
   "cell_type": "code",
   "execution_count": 9,
   "metadata": {},
   "outputs": [
    {
     "name": "stdout",
     "output_type": "stream",
     "text": [
      "My cat Ulysses is the best.\n"
     ]
    }
   ],
   "source": [
    "# Example 3\n",
    "\n",
    "# This is a lie\n",
    "bad_message = \"My cat Ulysses is the worst.\"\n",
    "# Use the replace method to substitute the word \"worst\" for the word \"best\"\n",
    "good_message = bad_message.replace(\"worst\",\"best\")\n",
    "print(good_message)"
   ]
  },
  {
   "cell_type": "code",
   "execution_count": 10,
   "metadata": {},
   "outputs": [
    {
     "name": "stdout",
     "output_type": "stream",
     "text": [
      "['A', 'string', 'divided', 'cannot', 'stand.']\n",
      "A string divided cannot stand.\n"
     ]
    }
   ],
   "source": [
    "# Example 4\n",
    "\n",
    "quote = \"A string divided cannot stand.\"\n",
    "\n",
    "# Split quote on spaces\n",
    "words = quote.split()\n",
    "print(words)\n",
    "\n",
    "# Join quote together using spaces\n",
    "joined = \" \".join(words)\n",
    "print(joined)"
   ]
  },
  {
   "cell_type": "code",
   "execution_count": 11,
   "metadata": {},
   "outputs": [
    {
     "name": "stdout",
     "output_type": "stream",
     "text": [
      "['Betty', 'bought', 'butter,', 'but', 'butter', 'bitter,', 'Betty', 'bought', 'better', 'butter', 'bitter', 'butter', 'better.']\n"
     ]
    }
   ],
   "source": [
    "# Example 5\n",
    "\n",
    "verse = \"Betty bought some butter, but the butter was bitter, so Betty bought some better butter to make the bitter butter better.\"\n",
    "\n",
    "# Count the number of words that start with the letter b, display those words in a list\n",
    "letter_b = 0\n",
    "words = []\n",
    "\n",
    "for word in verse.split():\n",
    "    if word.lower().startswith(\"b\"):\n",
    "        words.append(word)\n",
    "\n",
    "print(words)"
   ]
  },
  {
   "cell_type": "markdown",
   "metadata": {},
   "source": [
    "### Final exercise\n",
    "\n",
    "Knowing what we now know about strings, your final task is to combine a bit of knowledge we already have with a bit more that we gained in this worksheet. Your task is to write code that:\n",
    "\n",
    "* takes `input` from the keyboard\n",
    "* counts the total number of vowels in the `string` (vowels: `a`,`e`,`i`,`o`,`u`)\n",
    "* counts the number of each individual vowel\n",
    "* `print`s the total count of vowels\n",
    "* `print`s the total count for _each vowel_\n",
    "  * The letter should be separated from the number by a tab (`\\t`)\n",
    "* Looks like the output below:\n",
    "\n",
    "```\n",
    "Enter a string:\n",
    "\n",
    "Your input string: THE STRING INPUT ABOVE\n",
    "\n",
    "The string has # vowels:\n",
    "a     #\n",
    "e     #\n",
    "i     #\n",
    "o     #\n",
    "u     #\n",
    "```\n",
    "\n",
    "This must pass the test case input:\n",
    "\n",
    "```\n",
    "Come now, Roy, we will first make them bad hot coffee some snow would cool.\n",
    "```\n",
    "\n",
    "Keep in mind:\n",
    "\n",
    "* captial `A` and lowercase `a` are _different_\n",
    "* there are at least 3 different ways to do this, but they almost all involve:\n",
    "   * a `for` loop\n",
    "   * at least one method (likely more)\n",
    "* this is the perfect application for a `dictionary` whose `keys` are the individual vowels"
   ]
  },
  {
   "cell_type": "code",
   "execution_count": 12,
   "metadata": {},
   "outputs": [
    {
     "name": "stdin",
     "output_type": "stream",
     "text": [
      "Enter a string: This is a string.\n"
     ]
    },
    {
     "name": "stdout",
     "output_type": "stream",
     "text": [
      "Your input string: This is a string.\n",
      "The string has 4 vowels.\n",
      "i\t3\n",
      "a\t1\n"
     ]
    }
   ],
   "source": [
    "# This is the optimal solution\n",
    "\n",
    "vowels = {}\n",
    "\n",
    "input_str = input(\"Enter a string:\")\n",
    "total_vowels = 0\n",
    "\n",
    "for char in input_str:\n",
    "    char = char.lower()\n",
    "    if char.startswith(('a','e','i','o','u')):\n",
    "        try:\n",
    "            vowels[char] += 1\n",
    "        except KeyError:\n",
    "            vowels[char] = 1\n",
    "        total_vowels += 1\n",
    "\n",
    "print(\"Your input string:\",input_str)\n",
    "print(\"The string has\",total_vowels,\"vowels.\")\n",
    "for vowel in vowels:\n",
    "    print(f\"{vowel}\\t{vowels[vowel]}\")"
   ]
  }
 ],
 "metadata": {
  "kernelspec": {
   "display_name": "Python 3",
   "language": "python",
   "name": "python3"
  },
  "language_info": {
   "codemirror_mode": {
    "name": "ipython",
    "version": 3
   },
   "file_extension": ".py",
   "mimetype": "text/x-python",
   "name": "python",
   "nbconvert_exporter": "python",
   "pygments_lexer": "ipython3",
   "version": "3.8.5"
  }
 },
 "nbformat": 4,
 "nbformat_minor": 4
}
